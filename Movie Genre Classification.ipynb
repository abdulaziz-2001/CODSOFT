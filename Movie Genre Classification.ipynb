{
 "cells": [
  {
   "cell_type": "markdown",
   "id": "19475c0a",
   "metadata": {},
   "source": [
    "# Importing the Required Dependencies"
   ]
  },
  {
   "cell_type": "code",
   "execution_count": 34,
   "id": "6aa95d14",
   "metadata": {},
   "outputs": [],
   "source": [
    "import pandas as pd\n",
    "from sklearn.preprocessing import LabelEncoder\n",
    "from sklearn.feature_extraction.text import CountVectorizer,TfidfVectorizer\n",
    "from sklearn.linear_model import LogisticRegression\n",
    "from sklearn.model_selection import train_test_split\n",
    "from sklearn.metrics import accuracy_score, classification_report\n",
    "from sklearn.naive_bayes import BernoulliNB \n"
   ]
  },
  {
   "cell_type": "markdown",
   "id": "ff1587fe",
   "metadata": {},
   "source": [
    "# Preprocessing Training Data "
   ]
  },
  {
   "cell_type": "code",
   "execution_count": 7,
   "id": "ca9b7e23",
   "metadata": {},
   "outputs": [
    {
     "name": "stderr",
     "output_type": "stream",
     "text": [
      "C:\\Users\\ABDUL AZIZ\\AppData\\Local\\Temp\\ipykernel_19308\\2504135834.py:1: ParserWarning: Falling back to the 'python' engine because the 'c' engine does not support regex separators (separators > 1 char and different from '\\s+' are interpreted as regex); you can avoid this warning by specifying engine='python'.\n",
      "  train_df = pd.read_csv('Datasets/train_data.txt', delimiter = ' ::: ', names=['Index','Title','Genre','Description'])\n"
     ]
    },
    {
     "data": {
      "text/html": [
       "<div>\n",
       "<style scoped>\n",
       "    .dataframe tbody tr th:only-of-type {\n",
       "        vertical-align: middle;\n",
       "    }\n",
       "\n",
       "    .dataframe tbody tr th {\n",
       "        vertical-align: top;\n",
       "    }\n",
       "\n",
       "    .dataframe thead th {\n",
       "        text-align: right;\n",
       "    }\n",
       "</style>\n",
       "<table border=\"1\" class=\"dataframe\">\n",
       "  <thead>\n",
       "    <tr style=\"text-align: right;\">\n",
       "      <th></th>\n",
       "      <th>Title</th>\n",
       "      <th>Genre</th>\n",
       "      <th>Description</th>\n",
       "    </tr>\n",
       "  </thead>\n",
       "  <tbody>\n",
       "    <tr>\n",
       "      <th>0</th>\n",
       "      <td>Oscar et la dame rose (2009)</td>\n",
       "      <td>drama</td>\n",
       "      <td>Listening in to a conversation between his doc...</td>\n",
       "    </tr>\n",
       "    <tr>\n",
       "      <th>1</th>\n",
       "      <td>Cupid (1997)</td>\n",
       "      <td>thriller</td>\n",
       "      <td>A brother and sister with a past incestuous re...</td>\n",
       "    </tr>\n",
       "    <tr>\n",
       "      <th>2</th>\n",
       "      <td>Young, Wild and Wonderful (1980)</td>\n",
       "      <td>adult</td>\n",
       "      <td>As the bus empties the students for their fiel...</td>\n",
       "    </tr>\n",
       "    <tr>\n",
       "      <th>3</th>\n",
       "      <td>The Secret Sin (1915)</td>\n",
       "      <td>drama</td>\n",
       "      <td>To help their unemployed father make ends meet...</td>\n",
       "    </tr>\n",
       "    <tr>\n",
       "      <th>4</th>\n",
       "      <td>The Unrecovered (2007)</td>\n",
       "      <td>drama</td>\n",
       "      <td>The film's title refers not only to the un-rec...</td>\n",
       "    </tr>\n",
       "    <tr>\n",
       "      <th>...</th>\n",
       "      <td>...</td>\n",
       "      <td>...</td>\n",
       "      <td>...</td>\n",
       "    </tr>\n",
       "    <tr>\n",
       "      <th>54209</th>\n",
       "      <td>\"Bonino\" (1953)</td>\n",
       "      <td>comedy</td>\n",
       "      <td>This short-lived NBC live sitcom centered on B...</td>\n",
       "    </tr>\n",
       "    <tr>\n",
       "      <th>54210</th>\n",
       "      <td>Dead Girls Don't Cry (????)</td>\n",
       "      <td>horror</td>\n",
       "      <td>The NEXT Generation of EXPLOITATION. The siste...</td>\n",
       "    </tr>\n",
       "    <tr>\n",
       "      <th>54211</th>\n",
       "      <td>Ronald Goedemondt: Ze bestaan echt (2008)</td>\n",
       "      <td>documentary</td>\n",
       "      <td>Ze bestaan echt, is a stand-up comedy about gr...</td>\n",
       "    </tr>\n",
       "    <tr>\n",
       "      <th>54212</th>\n",
       "      <td>Make Your Own Bed (1944)</td>\n",
       "      <td>comedy</td>\n",
       "      <td>Walter and Vivian live in the country and have...</td>\n",
       "    </tr>\n",
       "    <tr>\n",
       "      <th>54213</th>\n",
       "      <td>Nature's Fury: Storm of the Century (2006)</td>\n",
       "      <td>history</td>\n",
       "      <td>On Labor Day Weekend, 1935, the most intense h...</td>\n",
       "    </tr>\n",
       "  </tbody>\n",
       "</table>\n",
       "<p>54214 rows × 3 columns</p>\n",
       "</div>"
      ],
      "text/plain": [
       "                                            Title        Genre  \\\n",
       "0                    Oscar et la dame rose (2009)        drama   \n",
       "1                                    Cupid (1997)     thriller   \n",
       "2                Young, Wild and Wonderful (1980)        adult   \n",
       "3                           The Secret Sin (1915)        drama   \n",
       "4                          The Unrecovered (2007)        drama   \n",
       "...                                           ...          ...   \n",
       "54209                             \"Bonino\" (1953)       comedy   \n",
       "54210                 Dead Girls Don't Cry (????)       horror   \n",
       "54211   Ronald Goedemondt: Ze bestaan echt (2008)  documentary   \n",
       "54212                    Make Your Own Bed (1944)       comedy   \n",
       "54213  Nature's Fury: Storm of the Century (2006)      history   \n",
       "\n",
       "                                             Description  \n",
       "0      Listening in to a conversation between his doc...  \n",
       "1      A brother and sister with a past incestuous re...  \n",
       "2      As the bus empties the students for their fiel...  \n",
       "3      To help their unemployed father make ends meet...  \n",
       "4      The film's title refers not only to the un-rec...  \n",
       "...                                                  ...  \n",
       "54209  This short-lived NBC live sitcom centered on B...  \n",
       "54210  The NEXT Generation of EXPLOITATION. The siste...  \n",
       "54211  Ze bestaan echt, is a stand-up comedy about gr...  \n",
       "54212  Walter and Vivian live in the country and have...  \n",
       "54213  On Labor Day Weekend, 1935, the most intense h...  \n",
       "\n",
       "[54214 rows x 3 columns]"
      ]
     },
     "execution_count": 7,
     "metadata": {},
     "output_type": "execute_result"
    }
   ],
   "source": [
    "train_df = pd.read_csv('Datasets/train_data.txt', delimiter = ' ::: ', names=['Index','Title','Genre','Description'])\n",
    "train_df.drop(columns='Index', inplace = True)\n",
    "train_df"
   ]
  },
  {
   "cell_type": "code",
   "execution_count": 8,
   "id": "1035a6bf",
   "metadata": {},
   "outputs": [
    {
     "data": {
      "text/plain": [
       "(54214, 3)"
      ]
     },
     "execution_count": 8,
     "metadata": {},
     "output_type": "execute_result"
    }
   ],
   "source": [
    "train_df.shape"
   ]
  },
  {
   "cell_type": "code",
   "execution_count": 9,
   "id": "fab06d95",
   "metadata": {},
   "outputs": [
    {
     "data": {
      "text/plain": [
       "array(['drama', 'thriller', 'adult', 'documentary', 'comedy', 'crime',\n",
       "       'reality-tv', 'horror', 'sport', 'animation', 'action', 'fantasy',\n",
       "       'short', 'sci-fi', 'music', 'adventure', 'talk-show', 'western',\n",
       "       'family', 'mystery', 'history', 'news', 'biography', 'romance',\n",
       "       'game-show', 'musical', 'war'], dtype=object)"
      ]
     },
     "execution_count": 9,
     "metadata": {},
     "output_type": "execute_result"
    }
   ],
   "source": [
    "train_df['Genre'].unique()"
   ]
  },
  {
   "cell_type": "markdown",
   "id": "89914369",
   "metadata": {},
   "source": [
    "# Encoding the Categorical Data "
   ]
  },
  {
   "cell_type": "code",
   "execution_count": 10,
   "id": "8c87ac84",
   "metadata": {},
   "outputs": [],
   "source": [
    "encoder = LabelEncoder()\n",
    "train_df['Genre'] = encoder.fit_transform(train_df['Genre'])"
   ]
  },
  {
   "cell_type": "code",
   "execution_count": 11,
   "id": "d2c33d4d",
   "metadata": {},
   "outputs": [
    {
     "data": {
      "text/plain": [
       "array([ 8, 24,  1,  7,  5,  6, 18, 13, 22,  3,  0, 10, 21, 20, 14,  2, 23,\n",
       "       26,  9, 16, 12, 17,  4, 19, 11, 15, 25])"
      ]
     },
     "execution_count": 11,
     "metadata": {},
     "output_type": "execute_result"
    }
   ],
   "source": [
    "train_df['Genre'].unique()"
   ]
  },
  {
   "cell_type": "code",
   "execution_count": 12,
   "id": "403854c6",
   "metadata": {},
   "outputs": [
    {
     "data": {
      "text/html": [
       "<div>\n",
       "<style scoped>\n",
       "    .dataframe tbody tr th:only-of-type {\n",
       "        vertical-align: middle;\n",
       "    }\n",
       "\n",
       "    .dataframe tbody tr th {\n",
       "        vertical-align: top;\n",
       "    }\n",
       "\n",
       "    .dataframe thead th {\n",
       "        text-align: right;\n",
       "    }\n",
       "</style>\n",
       "<table border=\"1\" class=\"dataframe\">\n",
       "  <thead>\n",
       "    <tr style=\"text-align: right;\">\n",
       "      <th></th>\n",
       "      <th>Genre</th>\n",
       "      <th>Text</th>\n",
       "    </tr>\n",
       "  </thead>\n",
       "  <tbody>\n",
       "    <tr>\n",
       "      <th>0</th>\n",
       "      <td>8</td>\n",
       "      <td>Oscar et la dame rose (2009) Listening in to a...</td>\n",
       "    </tr>\n",
       "    <tr>\n",
       "      <th>1</th>\n",
       "      <td>24</td>\n",
       "      <td>Cupid (1997) A brother and sister with a past ...</td>\n",
       "    </tr>\n",
       "    <tr>\n",
       "      <th>2</th>\n",
       "      <td>1</td>\n",
       "      <td>Young, Wild and Wonderful (1980) As the bus em...</td>\n",
       "    </tr>\n",
       "    <tr>\n",
       "      <th>3</th>\n",
       "      <td>8</td>\n",
       "      <td>The Secret Sin (1915) To help their unemployed...</td>\n",
       "    </tr>\n",
       "    <tr>\n",
       "      <th>4</th>\n",
       "      <td>8</td>\n",
       "      <td>The Unrecovered (2007) The film's title refers...</td>\n",
       "    </tr>\n",
       "    <tr>\n",
       "      <th>...</th>\n",
       "      <td>...</td>\n",
       "      <td>...</td>\n",
       "    </tr>\n",
       "    <tr>\n",
       "      <th>54209</th>\n",
       "      <td>5</td>\n",
       "      <td>\"Bonino\" (1953) This short-lived NBC live sitc...</td>\n",
       "    </tr>\n",
       "    <tr>\n",
       "      <th>54210</th>\n",
       "      <td>13</td>\n",
       "      <td>Dead Girls Don't Cry (????) The NEXT Generatio...</td>\n",
       "    </tr>\n",
       "    <tr>\n",
       "      <th>54211</th>\n",
       "      <td>7</td>\n",
       "      <td>Ronald Goedemondt: Ze bestaan echt (2008) Ze b...</td>\n",
       "    </tr>\n",
       "    <tr>\n",
       "      <th>54212</th>\n",
       "      <td>5</td>\n",
       "      <td>Make Your Own Bed (1944) Walter and Vivian liv...</td>\n",
       "    </tr>\n",
       "    <tr>\n",
       "      <th>54213</th>\n",
       "      <td>12</td>\n",
       "      <td>Nature's Fury: Storm of the Century (2006) On ...</td>\n",
       "    </tr>\n",
       "  </tbody>\n",
       "</table>\n",
       "<p>54214 rows × 2 columns</p>\n",
       "</div>"
      ],
      "text/plain": [
       "       Genre                                               Text\n",
       "0          8  Oscar et la dame rose (2009) Listening in to a...\n",
       "1         24  Cupid (1997) A brother and sister with a past ...\n",
       "2          1  Young, Wild and Wonderful (1980) As the bus em...\n",
       "3          8  The Secret Sin (1915) To help their unemployed...\n",
       "4          8  The Unrecovered (2007) The film's title refers...\n",
       "...      ...                                                ...\n",
       "54209      5  \"Bonino\" (1953) This short-lived NBC live sitc...\n",
       "54210     13  Dead Girls Don't Cry (????) The NEXT Generatio...\n",
       "54211      7  Ronald Goedemondt: Ze bestaan echt (2008) Ze b...\n",
       "54212      5  Make Your Own Bed (1944) Walter and Vivian liv...\n",
       "54213     12  Nature's Fury: Storm of the Century (2006) On ...\n",
       "\n",
       "[54214 rows x 2 columns]"
      ]
     },
     "execution_count": 12,
     "metadata": {},
     "output_type": "execute_result"
    }
   ],
   "source": [
    "train_df['Text'] = train_df['Title'] +' ' + train_df['Description']\n",
    "train_df = train_df.drop(columns=['Title','Description'])\n",
    "train_df"
   ]
  },
  {
   "cell_type": "markdown",
   "id": "d454b296",
   "metadata": {},
   "source": [
    "# Vectorizing the Train Data"
   ]
  },
  {
   "cell_type": "code",
   "execution_count": 32,
   "id": "1606ea7a",
   "metadata": {},
   "outputs": [],
   "source": [
    "vectorizer = CountVectorizer(lowercase=True, stop_words='english', min_df=1)\n",
    "X_train = vectorizer.fit_transform(train_df['Text'])"
   ]
  },
  {
   "cell_type": "code",
   "execution_count": 14,
   "id": "91d7312d",
   "metadata": {},
   "outputs": [],
   "source": [
    "Y_train = train_df['Genre']"
   ]
  },
  {
   "cell_type": "markdown",
   "id": "a67ab03d",
   "metadata": {},
   "source": [
    "model = LogisticRegression()\n",
    "model.fit(X_train,Y_train)"
   ]
  },
  {
   "cell_type": "markdown",
   "id": "e4050966",
   "metadata": {},
   "source": [
    "# Preprocessing Test Data"
   ]
  },
  {
   "cell_type": "code",
   "execution_count": 16,
   "id": "ae5f3599",
   "metadata": {},
   "outputs": [
    {
     "data": {
      "text/html": [
       "<div>\n",
       "<style scoped>\n",
       "    .dataframe tbody tr th:only-of-type {\n",
       "        vertical-align: middle;\n",
       "    }\n",
       "\n",
       "    .dataframe tbody tr th {\n",
       "        vertical-align: top;\n",
       "    }\n",
       "\n",
       "    .dataframe thead th {\n",
       "        text-align: right;\n",
       "    }\n",
       "</style>\n",
       "<table border=\"1\" class=\"dataframe\">\n",
       "  <thead>\n",
       "    <tr style=\"text-align: right;\">\n",
       "      <th></th>\n",
       "      <th>Title</th>\n",
       "      <th>Description</th>\n",
       "    </tr>\n",
       "  </thead>\n",
       "  <tbody>\n",
       "    <tr>\n",
       "      <th>0</th>\n",
       "      <td>Edgar's Lunch (1998)</td>\n",
       "      <td>L.R. Brane loves his life - his car, his apart...</td>\n",
       "    </tr>\n",
       "    <tr>\n",
       "      <th>1</th>\n",
       "      <td>La guerra de papá (1977)</td>\n",
       "      <td>Spain, March 1964: Quico is a very naughty chi...</td>\n",
       "    </tr>\n",
       "    <tr>\n",
       "      <th>2</th>\n",
       "      <td>Off the Beaten Track (2010)</td>\n",
       "      <td>One year in the life of Albin and his family o...</td>\n",
       "    </tr>\n",
       "    <tr>\n",
       "      <th>3</th>\n",
       "      <td>Meu Amigo Hindu (2015)</td>\n",
       "      <td>His father has died, he hasn't spoken with his...</td>\n",
       "    </tr>\n",
       "    <tr>\n",
       "      <th>4</th>\n",
       "      <td>Er nu zhai (1955)</td>\n",
       "      <td>Before he was known internationally as a marti...</td>\n",
       "    </tr>\n",
       "    <tr>\n",
       "      <th>...</th>\n",
       "      <td>...</td>\n",
       "      <td>...</td>\n",
       "    </tr>\n",
       "    <tr>\n",
       "      <th>54195</th>\n",
       "      <td>\"Tales of Light &amp; Dark\" (2013)</td>\n",
       "      <td>Covering multiple genres, Tales of Light &amp; Dar...</td>\n",
       "    </tr>\n",
       "    <tr>\n",
       "      <th>54196</th>\n",
       "      <td>Der letzte Mohikaner (1965)</td>\n",
       "      <td>As Alice and Cora Munro attempt to find their ...</td>\n",
       "    </tr>\n",
       "    <tr>\n",
       "      <th>54197</th>\n",
       "      <td>Oliver Twink (2007)</td>\n",
       "      <td>A movie 169 years in the making. Oliver Twist,...</td>\n",
       "    </tr>\n",
       "    <tr>\n",
       "      <th>54198</th>\n",
       "      <td>Slipstream (1973)</td>\n",
       "      <td>Popular, but mysterious rock D.J Mike Mallard ...</td>\n",
       "    </tr>\n",
       "    <tr>\n",
       "      <th>54199</th>\n",
       "      <td>Curitiba Zero Grau (2010)</td>\n",
       "      <td>Curitiba is a city in movement, with rhythms a...</td>\n",
       "    </tr>\n",
       "  </tbody>\n",
       "</table>\n",
       "<p>54200 rows × 2 columns</p>\n",
       "</div>"
      ],
      "text/plain": [
       "                                Title  \\\n",
       "0                Edgar's Lunch (1998)   \n",
       "1            La guerra de papá (1977)   \n",
       "2         Off the Beaten Track (2010)   \n",
       "3              Meu Amigo Hindu (2015)   \n",
       "4                   Er nu zhai (1955)   \n",
       "...                               ...   \n",
       "54195  \"Tales of Light & Dark\" (2013)   \n",
       "54196     Der letzte Mohikaner (1965)   \n",
       "54197             Oliver Twink (2007)   \n",
       "54198               Slipstream (1973)   \n",
       "54199       Curitiba Zero Grau (2010)   \n",
       "\n",
       "                                             Description  \n",
       "0      L.R. Brane loves his life - his car, his apart...  \n",
       "1      Spain, March 1964: Quico is a very naughty chi...  \n",
       "2      One year in the life of Albin and his family o...  \n",
       "3      His father has died, he hasn't spoken with his...  \n",
       "4      Before he was known internationally as a marti...  \n",
       "...                                                  ...  \n",
       "54195  Covering multiple genres, Tales of Light & Dar...  \n",
       "54196  As Alice and Cora Munro attempt to find their ...  \n",
       "54197  A movie 169 years in the making. Oliver Twist,...  \n",
       "54198  Popular, but mysterious rock D.J Mike Mallard ...  \n",
       "54199  Curitiba is a city in movement, with rhythms a...  \n",
       "\n",
       "[54200 rows x 2 columns]"
      ]
     },
     "execution_count": 16,
     "metadata": {},
     "output_type": "execute_result"
    }
   ],
   "source": [
    "test_df = pd.read_csv('Datasets/test_data.txt', delimiter=' ::: ', engine='python' , names= ['Index','Title','Description'])\n",
    "test_df.drop(columns='Index',inplace=True)\n",
    "test_df"
   ]
  },
  {
   "cell_type": "code",
   "execution_count": 21,
   "id": "8a5ea926",
   "metadata": {},
   "outputs": [
    {
     "data": {
      "text/html": [
       "<div>\n",
       "<style scoped>\n",
       "    .dataframe tbody tr th:only-of-type {\n",
       "        vertical-align: middle;\n",
       "    }\n",
       "\n",
       "    .dataframe tbody tr th {\n",
       "        vertical-align: top;\n",
       "    }\n",
       "\n",
       "    .dataframe thead th {\n",
       "        text-align: right;\n",
       "    }\n",
       "</style>\n",
       "<table border=\"1\" class=\"dataframe\">\n",
       "  <thead>\n",
       "    <tr style=\"text-align: right;\">\n",
       "      <th></th>\n",
       "      <th>Title</th>\n",
       "      <th>Description</th>\n",
       "    </tr>\n",
       "  </thead>\n",
       "  <tbody>\n",
       "    <tr>\n",
       "      <th>0</th>\n",
       "      <td>Edgar's Lunch (1998)</td>\n",
       "      <td>L.R. Brane loves his life - his car, his apart...</td>\n",
       "    </tr>\n",
       "    <tr>\n",
       "      <th>1</th>\n",
       "      <td>La guerra de papá (1977)</td>\n",
       "      <td>Spain, March 1964: Quico is a very naughty chi...</td>\n",
       "    </tr>\n",
       "    <tr>\n",
       "      <th>2</th>\n",
       "      <td>Off the Beaten Track (2010)</td>\n",
       "      <td>One year in the life of Albin and his family o...</td>\n",
       "    </tr>\n",
       "    <tr>\n",
       "      <th>3</th>\n",
       "      <td>Meu Amigo Hindu (2015)</td>\n",
       "      <td>His father has died, he hasn't spoken with his...</td>\n",
       "    </tr>\n",
       "    <tr>\n",
       "      <th>4</th>\n",
       "      <td>Er nu zhai (1955)</td>\n",
       "      <td>Before he was known internationally as a marti...</td>\n",
       "    </tr>\n",
       "    <tr>\n",
       "      <th>...</th>\n",
       "      <td>...</td>\n",
       "      <td>...</td>\n",
       "    </tr>\n",
       "    <tr>\n",
       "      <th>54195</th>\n",
       "      <td>\"Tales of Light &amp; Dark\" (2013)</td>\n",
       "      <td>Covering multiple genres, Tales of Light &amp; Dar...</td>\n",
       "    </tr>\n",
       "    <tr>\n",
       "      <th>54196</th>\n",
       "      <td>Der letzte Mohikaner (1965)</td>\n",
       "      <td>As Alice and Cora Munro attempt to find their ...</td>\n",
       "    </tr>\n",
       "    <tr>\n",
       "      <th>54197</th>\n",
       "      <td>Oliver Twink (2007)</td>\n",
       "      <td>A movie 169 years in the making. Oliver Twist,...</td>\n",
       "    </tr>\n",
       "    <tr>\n",
       "      <th>54198</th>\n",
       "      <td>Slipstream (1973)</td>\n",
       "      <td>Popular, but mysterious rock D.J Mike Mallard ...</td>\n",
       "    </tr>\n",
       "    <tr>\n",
       "      <th>54199</th>\n",
       "      <td>Curitiba Zero Grau (2010)</td>\n",
       "      <td>Curitiba is a city in movement, with rhythms a...</td>\n",
       "    </tr>\n",
       "  </tbody>\n",
       "</table>\n",
       "<p>54200 rows × 2 columns</p>\n",
       "</div>"
      ],
      "text/plain": [
       "                                Title  \\\n",
       "0                Edgar's Lunch (1998)   \n",
       "1            La guerra de papá (1977)   \n",
       "2         Off the Beaten Track (2010)   \n",
       "3              Meu Amigo Hindu (2015)   \n",
       "4                   Er nu zhai (1955)   \n",
       "...                               ...   \n",
       "54195  \"Tales of Light & Dark\" (2013)   \n",
       "54196     Der letzte Mohikaner (1965)   \n",
       "54197             Oliver Twink (2007)   \n",
       "54198               Slipstream (1973)   \n",
       "54199       Curitiba Zero Grau (2010)   \n",
       "\n",
       "                                             Description  \n",
       "0      L.R. Brane loves his life - his car, his apart...  \n",
       "1      Spain, March 1964: Quico is a very naughty chi...  \n",
       "2      One year in the life of Albin and his family o...  \n",
       "3      His father has died, he hasn't spoken with his...  \n",
       "4      Before he was known internationally as a marti...  \n",
       "...                                                  ...  \n",
       "54195  Covering multiple genres, Tales of Light & Dar...  \n",
       "54196  As Alice and Cora Munro attempt to find their ...  \n",
       "54197  A movie 169 years in the making. Oliver Twist,...  \n",
       "54198  Popular, but mysterious rock D.J Mike Mallard ...  \n",
       "54199  Curitiba is a city in movement, with rhythms a...  \n",
       "\n",
       "[54200 rows x 2 columns]"
      ]
     },
     "execution_count": 21,
     "metadata": {},
     "output_type": "execute_result"
    }
   ],
   "source": [
    "test_df = pd.read_csv('Datasets/test_data.txt', delimiter=' ::: ', engine='python' , names= ['Index','Title','Description'])\n",
    "test_df.drop(columns='Index',inplace=True)\n",
    "test_df"
   ]
  },
  {
   "cell_type": "code",
   "execution_count": 22,
   "id": "f0513cd8",
   "metadata": {},
   "outputs": [],
   "source": [
    "test_df['Text'] = test_df['Title'] +' ' + test_df['Description']\n",
    "test_df.drop(columns= ['Title','Description'],inplace=True)"
   ]
  },
  {
   "cell_type": "code",
   "execution_count": 23,
   "id": "e0d7315f",
   "metadata": {},
   "outputs": [
    {
     "name": "stdout",
     "output_type": "stream",
     "text": [
      "  (0, 132178)\t0.07723030965930751\n",
      "  (0, 131692)\t0.14276455403103375\n",
      "  (0, 127937)\t0.7244174398692158\n",
      "  (0, 123002)\t0.08633363464426817\n",
      "  (0, 122108)\t0.12296593552308774\n",
      "  (0, 121803)\t0.12216957138278162\n",
      "  (0, 115011)\t0.08714985478228343\n",
      "  (0, 114902)\t0.08772626621554351\n",
      "  (0, 114768)\t0.10351821863181784\n",
      "  (0, 109217)\t0.1759504656544637\n",
      "  (0, 108120)\t0.1759504656544637\n",
      "  (0, 103110)\t0.18085129255090931\n",
      "  (0, 100618)\t0.08235403854445922\n",
      "  (0, 96648)\t0.11379111874935145\n",
      "  (0, 85292)\t0.1280424420556733\n",
      "  (0, 77924)\t0.10618191428802373\n",
      "  (0, 77717)\t0.08710264726281644\n",
      "  (0, 71462)\t0.1318099354638689\n",
      "  (0, 71058)\t0.09304909639354327\n",
      "  (0, 69621)\t0.0868701564675276\n",
      "  (0, 61221)\t0.07522719107292432\n",
      "  (0, 48413)\t0.09769911376906405\n",
      "  (0, 47620)\t0.08396775259802947\n",
      "  (0, 42518)\t0.0926163400072346\n",
      "  (0, 39974)\t0.19422518401035885\n",
      "  :\t:\n",
      "  (54199, 70258)\t0.057432247345554396\n",
      "  (54199, 69684)\t0.08702404787472318\n",
      "  (54199, 58382)\t0.1412151675068971\n",
      "  (54199, 57481)\t0.14008917772316354\n",
      "  (54199, 53889)\t0.13648927007928777\n",
      "  (54199, 49175)\t0.07345044218043245\n",
      "  (54199, 49087)\t0.19553600361958\n",
      "  (54199, 44187)\t0.1265994990058405\n",
      "  (54199, 40537)\t0.09517209835289896\n",
      "  (54199, 38751)\t0.1356239628481486\n",
      "  (54199, 33328)\t0.13375764314269215\n",
      "  (54199, 32093)\t0.14197143388586606\n",
      "  (54199, 29253)\t0.1066664326113862\n",
      "  (54199, 28260)\t0.5386490252094971\n",
      "  (54199, 27677)\t0.0946806070837436\n",
      "  (54199, 26861)\t0.1545120620940802\n",
      "  (54199, 26019)\t0.13803424227517713\n",
      "  (54199, 25587)\t0.12395806173450556\n",
      "  (54199, 24938)\t0.12080118445457172\n",
      "  (54199, 24397)\t0.12530655305561597\n",
      "  (54199, 24167)\t0.1674564843648494\n",
      "  (54199, 24035)\t0.14888070370930234\n",
      "  (54199, 23186)\t0.12981776899118946\n",
      "  (54199, 19983)\t0.1105461961463671\n",
      "  (54199, 707)\t0.07351434989386274\n"
     ]
    }
   ],
   "source": [
    "X_test = vectorizer.transform(test_df['Text'])\n",
    "print(X_test)"
   ]
  },
  {
   "cell_type": "code",
   "execution_count": 24,
   "id": "56611eaf",
   "metadata": {},
   "outputs": [],
   "source": [
    "X_predict = model.predict(X_test)"
   ]
  },
  {
   "cell_type": "markdown",
   "id": "45c4472b",
   "metadata": {},
   "source": [
    "# Preprocessing Solution Data"
   ]
  },
  {
   "cell_type": "code",
   "execution_count": 26,
   "id": "b485b06d",
   "metadata": {},
   "outputs": [
    {
     "data": {
      "text/html": [
       "<div>\n",
       "<style scoped>\n",
       "    .dataframe tbody tr th:only-of-type {\n",
       "        vertical-align: middle;\n",
       "    }\n",
       "\n",
       "    .dataframe tbody tr th {\n",
       "        vertical-align: top;\n",
       "    }\n",
       "\n",
       "    .dataframe thead th {\n",
       "        text-align: right;\n",
       "    }\n",
       "</style>\n",
       "<table border=\"1\" class=\"dataframe\">\n",
       "  <thead>\n",
       "    <tr style=\"text-align: right;\">\n",
       "      <th></th>\n",
       "      <th>Title</th>\n",
       "      <th>Genre</th>\n",
       "      <th>Description</th>\n",
       "    </tr>\n",
       "  </thead>\n",
       "  <tbody>\n",
       "    <tr>\n",
       "      <th>0</th>\n",
       "      <td>Edgar's Lunch (1998)</td>\n",
       "      <td>thriller</td>\n",
       "      <td>L.R. Brane loves his life - his car, his apart...</td>\n",
       "    </tr>\n",
       "    <tr>\n",
       "      <th>1</th>\n",
       "      <td>La guerra de papá (1977)</td>\n",
       "      <td>comedy</td>\n",
       "      <td>Spain, March 1964: Quico is a very naughty chi...</td>\n",
       "    </tr>\n",
       "    <tr>\n",
       "      <th>2</th>\n",
       "      <td>Off the Beaten Track (2010)</td>\n",
       "      <td>documentary</td>\n",
       "      <td>One year in the life of Albin and his family o...</td>\n",
       "    </tr>\n",
       "    <tr>\n",
       "      <th>3</th>\n",
       "      <td>Meu Amigo Hindu (2015)</td>\n",
       "      <td>drama</td>\n",
       "      <td>His father has died, he hasn't spoken with his...</td>\n",
       "    </tr>\n",
       "    <tr>\n",
       "      <th>4</th>\n",
       "      <td>Er nu zhai (1955)</td>\n",
       "      <td>drama</td>\n",
       "      <td>Before he was known internationally as a marti...</td>\n",
       "    </tr>\n",
       "    <tr>\n",
       "      <th>...</th>\n",
       "      <td>...</td>\n",
       "      <td>...</td>\n",
       "      <td>...</td>\n",
       "    </tr>\n",
       "    <tr>\n",
       "      <th>54195</th>\n",
       "      <td>\"Tales of Light &amp; Dark\" (2013)</td>\n",
       "      <td>horror</td>\n",
       "      <td>Covering multiple genres, Tales of Light &amp; Dar...</td>\n",
       "    </tr>\n",
       "    <tr>\n",
       "      <th>54196</th>\n",
       "      <td>Der letzte Mohikaner (1965)</td>\n",
       "      <td>western</td>\n",
       "      <td>As Alice and Cora Munro attempt to find their ...</td>\n",
       "    </tr>\n",
       "    <tr>\n",
       "      <th>54197</th>\n",
       "      <td>Oliver Twink (2007)</td>\n",
       "      <td>adult</td>\n",
       "      <td>A movie 169 years in the making. Oliver Twist,...</td>\n",
       "    </tr>\n",
       "    <tr>\n",
       "      <th>54198</th>\n",
       "      <td>Slipstream (1973)</td>\n",
       "      <td>drama</td>\n",
       "      <td>Popular, but mysterious rock D.J Mike Mallard ...</td>\n",
       "    </tr>\n",
       "    <tr>\n",
       "      <th>54199</th>\n",
       "      <td>Curitiba Zero Grau (2010)</td>\n",
       "      <td>drama</td>\n",
       "      <td>Curitiba is a city in movement, with rhythms a...</td>\n",
       "    </tr>\n",
       "  </tbody>\n",
       "</table>\n",
       "<p>54200 rows × 3 columns</p>\n",
       "</div>"
      ],
      "text/plain": [
       "                                Title        Genre  \\\n",
       "0                Edgar's Lunch (1998)     thriller   \n",
       "1            La guerra de papá (1977)       comedy   \n",
       "2         Off the Beaten Track (2010)  documentary   \n",
       "3              Meu Amigo Hindu (2015)        drama   \n",
       "4                   Er nu zhai (1955)        drama   \n",
       "...                               ...          ...   \n",
       "54195  \"Tales of Light & Dark\" (2013)       horror   \n",
       "54196     Der letzte Mohikaner (1965)      western   \n",
       "54197             Oliver Twink (2007)        adult   \n",
       "54198               Slipstream (1973)        drama   \n",
       "54199       Curitiba Zero Grau (2010)        drama   \n",
       "\n",
       "                                             Description  \n",
       "0      L.R. Brane loves his life - his car, his apart...  \n",
       "1      Spain, March 1964: Quico is a very naughty chi...  \n",
       "2      One year in the life of Albin and his family o...  \n",
       "3      His father has died, he hasn't spoken with his...  \n",
       "4      Before he was known internationally as a marti...  \n",
       "...                                                  ...  \n",
       "54195  Covering multiple genres, Tales of Light & Dar...  \n",
       "54196  As Alice and Cora Munro attempt to find their ...  \n",
       "54197  A movie 169 years in the making. Oliver Twist,...  \n",
       "54198  Popular, but mysterious rock D.J Mike Mallard ...  \n",
       "54199  Curitiba is a city in movement, with rhythms a...  \n",
       "\n",
       "[54200 rows x 3 columns]"
      ]
     },
     "execution_count": 26,
     "metadata": {},
     "output_type": "execute_result"
    }
   ],
   "source": [
    "test_sol_df = pd.read_csv('Datasets/test_data_solution.txt', delimiter=' ::: ', engine='python', names=['Index','Title','Genre','Description'])\n",
    "test_sol_df.drop(columns = 'Index', inplace = True)\n",
    "\n",
    "test_sol_df"
   ]
  },
  {
   "cell_type": "code",
   "execution_count": 27,
   "id": "50a76cd0",
   "metadata": {},
   "outputs": [],
   "source": [
    "test_sol_df['Genre'] = encoder.transform(test_sol_df['Genre'])"
   ]
  },
  {
   "cell_type": "code",
   "execution_count": 28,
   "id": "a97c3790",
   "metadata": {},
   "outputs": [
    {
     "data": {
      "text/plain": [
       "0        24\n",
       "1         5\n",
       "2         7\n",
       "3         8\n",
       "4         8\n",
       "         ..\n",
       "54195    13\n",
       "54196    26\n",
       "54197     1\n",
       "54198     8\n",
       "54199     8\n",
       "Name: Genre, Length: 54200, dtype: int32"
      ]
     },
     "execution_count": 28,
     "metadata": {},
     "output_type": "execute_result"
    }
   ],
   "source": [
    "test_sol_df['Genre']"
   ]
  },
  {
   "cell_type": "code",
   "execution_count": 29,
   "id": "69d3aea6",
   "metadata": {},
   "outputs": [
    {
     "data": {
      "text/html": [
       "<div>\n",
       "<style scoped>\n",
       "    .dataframe tbody tr th:only-of-type {\n",
       "        vertical-align: middle;\n",
       "    }\n",
       "\n",
       "    .dataframe tbody tr th {\n",
       "        vertical-align: top;\n",
       "    }\n",
       "\n",
       "    .dataframe thead th {\n",
       "        text-align: right;\n",
       "    }\n",
       "</style>\n",
       "<table border=\"1\" class=\"dataframe\">\n",
       "  <thead>\n",
       "    <tr style=\"text-align: right;\">\n",
       "      <th></th>\n",
       "      <th>Genre</th>\n",
       "      <th>Text</th>\n",
       "    </tr>\n",
       "  </thead>\n",
       "  <tbody>\n",
       "    <tr>\n",
       "      <th>0</th>\n",
       "      <td>24</td>\n",
       "      <td>Edgar's Lunch (1998) L.R. Brane loves his life...</td>\n",
       "    </tr>\n",
       "    <tr>\n",
       "      <th>1</th>\n",
       "      <td>5</td>\n",
       "      <td>La guerra de papá (1977) Spain, March 1964: Qu...</td>\n",
       "    </tr>\n",
       "    <tr>\n",
       "      <th>2</th>\n",
       "      <td>7</td>\n",
       "      <td>Off the Beaten Track (2010) One year in the li...</td>\n",
       "    </tr>\n",
       "    <tr>\n",
       "      <th>3</th>\n",
       "      <td>8</td>\n",
       "      <td>Meu Amigo Hindu (2015) His father has died, he...</td>\n",
       "    </tr>\n",
       "    <tr>\n",
       "      <th>4</th>\n",
       "      <td>8</td>\n",
       "      <td>Er nu zhai (1955) Before he was known internat...</td>\n",
       "    </tr>\n",
       "    <tr>\n",
       "      <th>...</th>\n",
       "      <td>...</td>\n",
       "      <td>...</td>\n",
       "    </tr>\n",
       "    <tr>\n",
       "      <th>54195</th>\n",
       "      <td>13</td>\n",
       "      <td>\"Tales of Light &amp; Dark\" (2013) Covering multip...</td>\n",
       "    </tr>\n",
       "    <tr>\n",
       "      <th>54196</th>\n",
       "      <td>26</td>\n",
       "      <td>Der letzte Mohikaner (1965) As Alice and Cora ...</td>\n",
       "    </tr>\n",
       "    <tr>\n",
       "      <th>54197</th>\n",
       "      <td>1</td>\n",
       "      <td>Oliver Twink (2007) A movie 169 years in the m...</td>\n",
       "    </tr>\n",
       "    <tr>\n",
       "      <th>54198</th>\n",
       "      <td>8</td>\n",
       "      <td>Slipstream (1973) Popular, but mysterious rock...</td>\n",
       "    </tr>\n",
       "    <tr>\n",
       "      <th>54199</th>\n",
       "      <td>8</td>\n",
       "      <td>Curitiba Zero Grau (2010) Curitiba is a city i...</td>\n",
       "    </tr>\n",
       "  </tbody>\n",
       "</table>\n",
       "<p>54200 rows × 2 columns</p>\n",
       "</div>"
      ],
      "text/plain": [
       "       Genre                                               Text\n",
       "0         24  Edgar's Lunch (1998) L.R. Brane loves his life...\n",
       "1          5  La guerra de papá (1977) Spain, March 1964: Qu...\n",
       "2          7  Off the Beaten Track (2010) One year in the li...\n",
       "3          8  Meu Amigo Hindu (2015) His father has died, he...\n",
       "4          8  Er nu zhai (1955) Before he was known internat...\n",
       "...      ...                                                ...\n",
       "54195     13  \"Tales of Light & Dark\" (2013) Covering multip...\n",
       "54196     26  Der letzte Mohikaner (1965) As Alice and Cora ...\n",
       "54197      1  Oliver Twink (2007) A movie 169 years in the m...\n",
       "54198      8  Slipstream (1973) Popular, but mysterious rock...\n",
       "54199      8  Curitiba Zero Grau (2010) Curitiba is a city i...\n",
       "\n",
       "[54200 rows x 2 columns]"
      ]
     },
     "execution_count": 29,
     "metadata": {},
     "output_type": "execute_result"
    }
   ],
   "source": [
    "test_sol_df['Text'] = test_sol_df['Title'] + ' ' + test_sol_df['Description']\n",
    "test_sol_df.drop(columns = ['Title','Description'], inplace = True)\n",
    "\n",
    "test_sol_df"
   ]
  },
  {
   "cell_type": "code",
   "execution_count": 30,
   "id": "4b5e12c3",
   "metadata": {},
   "outputs": [],
   "source": [
    "Y_test = test_sol_df['Genre']"
   ]
  },
  {
   "cell_type": "markdown",
   "id": "d961c357",
   "metadata": {},
   "source": [
    "# Checking the Accuracy "
   ]
  },
  {
   "cell_type": "code",
   "execution_count": 31,
   "id": "0bae29d8",
   "metadata": {},
   "outputs": [
    {
     "data": {
      "text/plain": [
       "0.5887269372693726"
      ]
     },
     "execution_count": 31,
     "metadata": {},
     "output_type": "execute_result"
    }
   ],
   "source": [
    "accuracy_score(Y_test,X_predict)"
   ]
  },
  {
   "cell_type": "code",
   "execution_count": null,
   "id": "5d8e364e",
   "metadata": {},
   "outputs": [],
   "source": []
  },
  {
   "cell_type": "code",
   "execution_count": null,
   "id": "814174ad",
   "metadata": {},
   "outputs": [],
   "source": []
  },
  {
   "cell_type": "code",
   "execution_count": null,
   "id": "e6368e76",
   "metadata": {},
   "outputs": [],
   "source": []
  },
  {
   "cell_type": "code",
   "execution_count": null,
   "id": "d8175e59",
   "metadata": {},
   "outputs": [],
   "source": []
  },
  {
   "cell_type": "code",
   "execution_count": null,
   "id": "920f731d",
   "metadata": {},
   "outputs": [],
   "source": []
  },
  {
   "cell_type": "code",
   "execution_count": null,
   "id": "b50ca551",
   "metadata": {},
   "outputs": [],
   "source": []
  },
  {
   "cell_type": "code",
   "execution_count": null,
   "id": "ac60ff4a",
   "metadata": {},
   "outputs": [],
   "source": []
  },
  {
   "cell_type": "code",
   "execution_count": null,
   "id": "ad93c51e",
   "metadata": {},
   "outputs": [],
   "source": []
  },
  {
   "cell_type": "code",
   "execution_count": null,
   "id": "57eb3fb1",
   "metadata": {},
   "outputs": [],
   "source": []
  }
 ],
 "metadata": {
  "kernelspec": {
   "display_name": "Python 3 (ipykernel)",
   "language": "python",
   "name": "python3"
  },
  "language_info": {
   "codemirror_mode": {
    "name": "ipython",
    "version": 3
   },
   "file_extension": ".py",
   "mimetype": "text/x-python",
   "name": "python",
   "nbconvert_exporter": "python",
   "pygments_lexer": "ipython3",
   "version": "3.11.4"
  }
 },
 "nbformat": 4,
 "nbformat_minor": 5
}
